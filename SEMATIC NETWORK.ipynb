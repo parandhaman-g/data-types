{
 "cells": [
  {
   "cell_type": "markdown",
   "id": "015ed3a3",
   "metadata": {},
   "source": [
    "# STATEMENT"
   ]
  },
  {
   "cell_type": "markdown",
   "id": "93381d3f",
   "metadata": {},
   "source": [
    "our dear friend mark who lives in califonia plays soccer in a club named spinoff. since he is new to californiya and he loves pets,\n",
    "he bought a cat.mark is a student who studies in califonrnia state university"
   ]
  },
  {
   "cell_type": "code",
   "execution_count": 2,
   "id": "144ba71c",
   "metadata": {},
   "outputs": [
    {
     "name": "stdout",
     "output_type": "stream",
     "text": [
      "Note: you may need to restart the kernel to use updated packages.Collecting network\n",
      "  Downloading network-0.1.tar.gz (2.8 kB)\n",
      "  Preparing metadata (setup.py): started\n",
      "  Preparing metadata (setup.py): finished with status 'done'\n",
      "Building wheels for collected packages: network\n",
      "  Building wheel for network (setup.py): started\n",
      "  Building wheel for network (setup.py): finished with status 'done'\n",
      "  Created wheel for network: filename=network-0.1-py3-none-any.whl size=3143 sha256=45f272f25a76ae9f86940983435e73376fd91b8523e752aeee21a3d983f3be45\n",
      "  Stored in directory: c:\\users\\sn141\\appdata\\local\\pip\\cache\\wheels\\25\\97\\b1\\563d3a70ed8f588bf9cf448f079024a9751b54d15a0ce3d46b\n",
      "Successfully built network\n",
      "Installing collected packages: network\n",
      "Successfully installed network-0.1\n",
      "\n"
     ]
    }
   ],
   "source": [
    "pip install network"
   ]
  },
  {
   "cell_type": "markdown",
   "id": "09ddc819",
   "metadata": {},
   "source": [
    "# STATEMENT"
   ]
  },
  {
   "cell_type": "code",
   "execution_count": null,
   "id": "bdb9bb69",
   "metadata": {},
   "outputs": [],
   "source": [
    "# mark is a student in california university(CSU)\n"
   ]
  }
 ],
 "metadata": {
  "kernelspec": {
   "display_name": "Python 3 (ipykernel)",
   "language": "python",
   "name": "python3"
  },
  "language_info": {
   "codemirror_mode": {
    "name": "ipython",
    "version": 3
   },
   "file_extension": ".py",
   "mimetype": "text/x-python",
   "name": "python",
   "nbconvert_exporter": "python",
   "pygments_lexer": "ipython3",
   "version": "3.10.13"
  }
 },
 "nbformat": 4,
 "nbformat_minor": 5
}
