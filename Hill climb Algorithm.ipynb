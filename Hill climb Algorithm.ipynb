{
 "cells": [
  {
   "cell_type": "code",
   "execution_count": 2,
   "id": "c4093010",
   "metadata": {},
   "outputs": [],
   "source": [
    "#Travelling sales person\n",
    "#finding the best possible shortest route among these cities to travel\n",
    "#chennai-bangalore    =347\n",
    "#chennai-delhi        =2196\n",
    "#chennai-kolkatha     =1667\n",
    "#bangalore-delhi      =2164\n",
    "#bangalore-kolkatha   =1875\n",
    "#delhi-kolkatha       =1559\n",
    "#all values in kms"
   ]
  },
  {
   "cell_type": "code",
   "execution_count": 3,
   "id": "d20172fe",
   "metadata": {},
   "outputs": [],
   "source": [
    "import random"
   ]
  },
  {
   "cell_type": "code",
   "execution_count": 4,
   "id": "d717cd4d",
   "metadata": {},
   "outputs": [],
   "source": [
    "tsp=[0,347,2196,1667],[347,0,2164,1875],[2196,2164,0,1559],[1667,1875,1599,0]"
   ]
  },
  {
   "cell_type": "code",
   "execution_count": 5,
   "id": "b0ba3677",
   "metadata": {},
   "outputs": [
    {
     "data": {
      "text/plain": [
       "4"
      ]
     },
     "execution_count": 5,
     "metadata": {},
     "output_type": "execute_result"
    }
   ],
   "source": [
    "len(tsp)"
   ]
  },
  {
   "cell_type": "code",
   "execution_count": 6,
   "id": "d6ed0e26",
   "metadata": {},
   "outputs": [],
   "source": [
    "def randomsolution(tsp):\n",
    "    cities=list(range(len(tsp)))\n",
    "    solution=[]\n",
    "    for i in range(len(tsp)):\n",
    "        randomcity=cities[random.randint(0,len(cities)-1)]\n",
    "        solution.append(randomcity)\n",
    "        cities.remove(randomcity)\n",
    "    return solution"
   ]
  },
  {
   "cell_type": "code",
   "execution_count": 7,
   "id": "11706738",
   "metadata": {},
   "outputs": [
    {
     "name": "stdout",
     "output_type": "stream",
     "text": [
      "[2, 3, 1, 0]\n"
     ]
    }
   ],
   "source": [
    "solution=randomsolution(tsp)\n",
    "print(solution)"
   ]
  },
  {
   "cell_type": "markdown",
   "id": "28dfd082",
   "metadata": {},
   "source": [
    "# CALCULATE  LENGTH OF ROUTE"
   ]
  },
  {
   "cell_type": "code",
   "execution_count": 8,
   "id": "1f2d3c97",
   "metadata": {},
   "outputs": [],
   "source": [
    "def routelength(tsp,solution):\n",
    "    routelength=0\n",
    "    for i in range(len(solution)):\n",
    "        routelength+=tsp[solution[i-1]][solution[i]]\n",
    "    return routelength"
   ]
  },
  {
   "cell_type": "code",
   "execution_count": 9,
   "id": "350d294c",
   "metadata": {},
   "outputs": [
    {
     "data": {
      "text/plain": [
       "5977"
      ]
     },
     "execution_count": 9,
     "metadata": {},
     "output_type": "execute_result"
    }
   ],
   "source": [
    "routelength(tsp,solution)"
   ]
  },
  {
   "cell_type": "markdown",
   "id": "0edfd271",
   "metadata": {},
   "source": [
    "# GENERATING NEIGHBOURS"
   ]
  },
  {
   "cell_type": "code",
   "execution_count": 10,
   "id": "8ca528d5",
   "metadata": {},
   "outputs": [],
   "source": [
    "def gentleneighbours(solution):\n",
    "    neighbours=[]\n",
    "    for i in range(len(solution)):\n",
    "        for j in range(i+1,len(solution)):\n",
    "        \tneighbour=solution.copy()\n",
    "        \tneighbour[i]=solution[j]\n",
    "        \tneighbour[j]=solution[i]\n",
    "        \tneighbours.append(neighbour)\n",
    "    return neighbours"
   ]
  },
  {
   "cell_type": "code",
   "execution_count": 11,
   "id": "9a294096",
   "metadata": {},
   "outputs": [
    {
     "name": "stdout",
     "output_type": "stream",
     "text": [
      "[[3, 2, 1, 0], [1, 3, 2, 0], [0, 3, 1, 2], [2, 1, 3, 0], [2, 0, 1, 3], [2, 3, 0, 1]]\n"
     ]
    }
   ],
   "source": [
    "neighbours=gentleneighbours(solution)\n",
    "print (neighbours)"
   ]
  },
  {
   "cell_type": "markdown",
   "id": "2996857f",
   "metadata": {},
   "source": [
    "# FINDING BEST NEIGHBOUR"
   ]
  },
  {
   "cell_type": "code",
   "execution_count": 12,
   "id": "75b5584a",
   "metadata": {},
   "outputs": [],
   "source": [
    "def getbestneighbour(tsp,neighbours):\n",
    "    bestroutelength=routelength(tsp,neighbours[0])\n",
    "    bestneighbour=neighbours[0]\n",
    "    for neighbour in neighbours:\n",
    "        currentroutelenth=routelength(tsp,neighbour)\n",
    "        if currentroutelenth<bestroutelength:\n",
    "            bestroutelength= currentroutelenth\n",
    "            bestneighbour=neighbour\n",
    "    return bestneighbour, bestroutelength"
   ]
  },
  {
   "cell_type": "code",
   "execution_count": 13,
   "id": "4b0ad79f",
   "metadata": {},
   "outputs": [
    {
     "data": {
      "text/plain": [
       "([2, 3, 0, 1], 5737)"
      ]
     },
     "execution_count": 13,
     "metadata": {},
     "output_type": "execute_result"
    }
   ],
   "source": [
    " getbestneighbour(tsp,neighbours)"
   ]
  },
  {
   "cell_type": "markdown",
   "id": "2b4df98a",
   "metadata": {},
   "source": [
    "# HILL CLIMBING SOLUTION"
   ]
  },
  {
   "cell_type": "code",
   "execution_count": 17,
   "id": "61b1180f",
   "metadata": {},
   "outputs": [],
   "source": [
    "def hillclimbing(tsp):\n",
    "    currentsolution= randomsolution(tsp)\n",
    "    currentroutelength=routelength(tsp,currentsolution)\n",
    "    neighbours=gentleneighbours(currentsolution)\n",
    "    bestneighbour,bestneighbourroutelength=getbestneighbour(tsp,neighbours)\n",
    "    while bestneighbourroutelength<currentroutelength:\n",
    "        currentsolution=bestneighbour\n",
    "        currentroutelength=bestneighbourroutelength\n",
    "        neighbours=getneighbours(currentsolution)\n",
    "        bestneighbour,bestneighbourroutelength=getbestneighbour(tsp,neighbour)\n",
    "    return   currentsolution ,currentroutelength     "
   ]
  },
  {
   "cell_type": "code",
   "execution_count": 18,
   "id": "fdf2f1ef",
   "metadata": {},
   "outputs": [
    {
     "name": "stdout",
     "output_type": "stream",
     "text": [
      "([2, 3, 0, 1], 5737)\n"
     ]
    }
   ],
   "source": [
    "print(hillclimbing(tsp))"
   ]
  },
  {
   "cell_type": "code",
   "execution_count": null,
   "id": "de2eee19",
   "metadata": {},
   "outputs": [],
   "source": []
  }
 ],
 "metadata": {
  "kernelspec": {
   "display_name": "Python 3 (ipykernel)",
   "language": "python",
   "name": "python3"
  },
  "language_info": {
   "codemirror_mode": {
    "name": "ipython",
    "version": 3
   },
   "file_extension": ".py",
   "mimetype": "text/x-python",
   "name": "python",
   "nbconvert_exporter": "python",
   "pygments_lexer": "ipython3",
   "version": "3.10.13"
  }
 },
 "nbformat": 4,
 "nbformat_minor": 5
}
