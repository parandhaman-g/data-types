{
 "cells": [
  {
   "cell_type": "code",
   "execution_count": 28,
   "id": "209b162c",
   "metadata": {},
   "outputs": [],
   "source": [
    "map={ 'home':['busstand'],\n",
    "       'busstand':['bus'],\n",
    "       'bus':['bypass','newbustand'],\n",
    "       'bypass':['junction','newbustand'],\n",
    "       'newbustand':['junction'],\n",
    "       'junction':['PMIST'],\n",
    "       'PMIST':['junction']}"
   ]
  },
  {
   "cell_type": "code",
   "execution_count": 29,
   "id": "999bdf6b",
   "metadata": {},
   "outputs": [],
   "source": [
    "from collections import deque\n",
    "def BFS(map,start,goal):\n",
    "    visited=[]  \n",
    "    queue=deque([start])\n",
    "    while queue:\n",
    "        node=queue.popleft()\n",
    "        if node not in visited:\n",
    "            visited.append(node)\n",
    "            print(\"I have visited\",node)\n",
    "            neighbournode=map[node]\n",
    "            if node==goal:\n",
    "                print('I have reached the goal,the path I travelled is',visited)\n",
    "            for neighbour in neighbournode:\n",
    "                 queue.append(neighbour)"
   ]
  },
  {
   "cell_type": "code",
   "execution_count": 30,
   "id": "7b7b829b",
   "metadata": {},
   "outputs": [
    {
     "name": "stdout",
     "output_type": "stream",
     "text": [
      "I have visited home\n",
      "I have visited busstand\n",
      "I have visited bus\n",
      "I have visited bypass\n",
      "I have visited newbustand\n",
      "I have visited junction\n",
      "I have visited PMIST\n",
      "I have reached the goal,the path I travelled is ['home', 'busstand', 'bus', 'bypass', 'newbustand', 'junction', 'PMIST']\n"
     ]
    }
   ],
   "source": [
    " BFS(map,'home','PMIST')"
   ]
  },
  {
   "cell_type": "code",
   "execution_count": 47,
   "id": "5274a533",
   "metadata": {},
   "outputs": [],
   "source": [
    "from queue import LifoQueue\n",
    "stack=LifoQueue\n",
    "def dfs(graph,start,goal,visited):\n",
    "    stack=[start]\n",
    "    while stack:\n",
    "        node = stack.pop()\n",
    "        if node not in visited:\n",
    "            visited.append(node)\n",
    "            if node==goal:\n",
    "                print(visited)\n",
    "            for neighbours in graph[node]:\n",
    "               dfs(graph,neighbours,goal,visited)"
   ]
  },
  {
   "cell_type": "code",
   "execution_count": 49,
   "id": "3c217f25",
   "metadata": {},
   "outputs": [
    {
     "name": "stdout",
     "output_type": "stream",
     "text": [
      "['home', 'busstand', 'bus', 'bypass', 'junction', 'PMIST']\n"
     ]
    }
   ],
   "source": [
    "dfs(map,'home','PMIST',[])"
   ]
  },
  {
   "cell_type": "code",
   "execution_count": null,
   "id": "9f4d4e86",
   "metadata": {},
   "outputs": [],
   "source": []
  }
 ],
 "metadata": {
  "kernelspec": {
   "display_name": "Python 3 (ipykernel)",
   "language": "python",
   "name": "python3"
  },
  "language_info": {
   "codemirror_mode": {
    "name": "ipython",
    "version": 3
   },
   "file_extension": ".py",
   "mimetype": "text/x-python",
   "name": "python",
   "nbconvert_exporter": "python",
   "pygments_lexer": "ipython3",
   "version": "3.10.13"
  }
 },
 "nbformat": 4,
 "nbformat_minor": 5
}
