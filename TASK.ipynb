{
 "cells": [
  {
   "cell_type": "code",
   "execution_count": 28,
   "id": "eba7e490",
   "metadata": {},
   "outputs": [],
   "source": [
    "map={ 'home':['busstand'],\n",
    "       'busstand':['bus'],\n",
    "       'bus':['bypass','newbustand'],\n",
    "       'bypass':['junction','newbustand'],\n",
    "       'newbustand':['junction'],\n",
    "       'junction':['PMIST'],\n",
    "       'PMIST':['junction']}"
   ]
  },
  {
   "cell_type": "code",
   "execution_count": 29,
   "id": "faa8a3ef",
   "metadata": {},
   "outputs": [],
   "source": [
    "from collections import deque\n",
    "def BFS(map,start,goal):\n",
    "    visited=[]  \n",
    "    queue=deque([start])\n",
    "    while queue:\n",
    "        node=queue.popleft()\n",
    "        if node not in visited:\n",
    "            visited.append(node)\n",
    "            print(\"I have visited\",node)\n",
    "            neighbournode=map[node]\n",
    "            if node==goal:\n",
    "                print('I have reached the goal,the path I travelled is',visited)\n",
    "            for neighbour in neighbournode:\n",
    "                 queue.append(neighbour)"
   ]
  },
  {
   "cell_type": "code",
   "execution_count": 30,
   "id": "c63e50ce",
   "metadata": {},
   "outputs": [
    {
     "name": "stdout",
     "output_type": "stream",
     "text": [
      "I have visited home\n",
      "I have visited busstand\n",
      "I have visited bus\n",
      "I have visited bypass\n",
      "I have visited newbustand\n",
      "I have visited junction\n",
      "I have visited PMIST\n",
      "I have reached the goal,the path I travelled is ['home', 'busstand', 'bus', 'bypass', 'newbustand', 'junction', 'PMIST']\n"
     ]
    }
   ],
   "source": [
    " BFS(map,'home','PMIST')"
   ]
  },
  {
   "cell_type": "code",
   "execution_count": null,
   "id": "51a45d39",
   "metadata": {},
   "outputs": [],
   "source": []
  }
 ],
 "metadata": {
  "kernelspec": {
   "display_name": "Python 3 (ipykernel)",
   "language": "python",
   "name": "python3"
  },
  "language_info": {
   "codemirror_mode": {
    "name": "ipython",
    "version": 3
   },
   "file_extension": ".py",
   "mimetype": "text/x-python",
   "name": "python",
   "nbconvert_exporter": "python",
   "pygments_lexer": "ipython3",
   "version": "3.10.13"
  }
 },
 "nbformat": 4,
 "nbformat_minor": 5
}
