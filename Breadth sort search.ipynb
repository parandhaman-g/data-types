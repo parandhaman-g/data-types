{
 "cells": [
  {
   "cell_type": "code",
   "execution_count": 22,
   "id": "3d91b86c",
   "metadata": {},
   "outputs": [],
   "source": [
    "graph={ 'pkc':['stadium','parking','tree'],\n",
    "       'stadium':['mainblock'],\n",
    "       'junction':['enterance','mainblock'],\n",
    "       'enterance':['junction'],\n",
    "       'mainblock':['junction']\n",
    "      }"
   ]
  },
  {
   "cell_type": "code",
   "execution_count": 23,
   "id": "4ad7ce4a",
   "metadata": {},
   "outputs": [],
   "source": [
    "from collections import deque\n",
    "def BFS(graph,start,goal):\n",
    "    visited=[]  \n",
    "    queue=deque([start])\n",
    "    while queue:\n",
    "        node=queue.popleft()\n",
    "        if node not in visited:\n",
    "            visited.append(node)\n",
    "            print(\"I have visited\",node)\n",
    "            neighbournode=graph[node]\n",
    "            if node==goal:\n",
    "                print('I have reached the goal,the path I travelled is',visited)\n",
    "            for neighbour in neighbournode:\n",
    "                 queue.append(neighbour)"
   ]
  },
  {
   "cell_type": "code",
   "execution_count": 24,
   "id": "91b13366",
   "metadata": {},
   "outputs": [
    {
     "name": "stdout",
     "output_type": "stream",
     "text": [
      "I have visited stadium\n",
      "I have visited mainblock\n",
      "I have visited junction\n",
      "I have reached the goal,the path I travelled is ['stadium', 'mainblock', 'junction']\n",
      "I have visited enterance\n"
     ]
    }
   ],
   "source": [
    "BFS(graph,'stadium','junction')"
   ]
  },
  {
   "cell_type": "code",
   "execution_count": null,
   "id": "65fef376",
   "metadata": {},
   "outputs": [],
   "source": []
  }
 ],
 "metadata": {
  "kernelspec": {
   "display_name": "Python 3 (ipykernel)",
   "language": "python",
   "name": "python3"
  },
  "language_info": {
   "codemirror_mode": {
    "name": "ipython",
    "version": 3
   },
   "file_extension": ".py",
   "mimetype": "text/x-python",
   "name": "python",
   "nbconvert_exporter": "python",
   "pygments_lexer": "ipython3",
   "version": "3.10.13"
  }
 },
 "nbformat": 4,
 "nbformat_minor": 5
}
